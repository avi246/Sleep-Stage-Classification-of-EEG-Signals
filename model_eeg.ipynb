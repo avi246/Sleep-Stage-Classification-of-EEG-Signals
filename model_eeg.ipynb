{
 "cells": [
  {
   "cell_type": "code",
   "execution_count": 1,
   "metadata": {},
   "outputs": [],
   "source": [
    "import pyedflib\n",
    "import pandas as pd\n",
    "import numpy as np\n",
    "import warnings\n",
    "warnings.filterwarnings('ignore')\n",
    "\n",
    "result = pd.read_csv(\"D:\\\\data\\\\sc-final.csv\")"
   ]
  },
  {
   "cell_type": "code",
   "execution_count": 2,
   "metadata": {
    "executionInfo": {
     "elapsed": 614,
     "status": "ok",
     "timestamp": 1699622261329,
     "user": {
      "displayName": "Ghodke Aditya Rao",
      "userId": "16174946243551813147"
     },
     "user_tz": -330
    },
    "id": "oBdTP8z2ltdw"
   },
   "outputs": [],
   "source": [
    "X = result.drop('sleep', axis=1)\n",
    "y = result['sleep']"
   ]
  },
  {
   "cell_type": "code",
   "execution_count": 3,
   "metadata": {
    "executionInfo": {
     "elapsed": 6,
     "status": "ok",
     "timestamp": 1699622263410,
     "user": {
      "displayName": "Ghodke Aditya Rao",
      "userId": "16174946243551813147"
     },
     "user_tz": -330
    },
    "id": "tXVnl_TCmBuk"
   },
   "outputs": [],
   "source": [
    "from sklearn.metrics import confusion_matrix\n",
    "from sklearn.model_selection import train_test_split\n",
    "from sklearn.metrics import accuracy_score\n",
    "\n",
    "X_train, X_test, y_train, y_test = train_test_split(X, y, test_size=0.2, shuffle=True)\n"
   ]
  },
  {
   "cell_type": "markdown",
   "metadata": {},
   "source": [
    "DECISION TREE CLASSIFIER"
   ]
  },
  {
   "cell_type": "code",
   "execution_count": 20,
   "metadata": {},
   "outputs": [
    {
     "name": "stdout",
     "output_type": "stream",
     "text": [
      "Training Score:  0.9192622045504749\n",
      "Accuracy: 0.877208480565371\n"
     ]
    }
   ],
   "source": [
    "from sklearn.tree import DecisionTreeClassifier\n",
    "\n",
    "clf = DecisionTreeClassifier(min_samples_split=10, min_samples_leaf= 9, max_depth=14)\n",
    "clf = clf.fit(X_train,y_train)\n",
    "y_pred = clf.predict(X_test)\n",
    "print(\"Training Score: \", clf.score(X_train, y_train))\n",
    "print(\"Accuracy:\",clf.score(X_test, y_test))"
   ]
  },
  {
   "cell_type": "markdown",
   "metadata": {},
   "source": [
    "RANDOM FOREST CLASSIFIER"
   ]
  },
  {
   "cell_type": "code",
   "execution_count": 22,
   "metadata": {
    "colab": {
     "base_uri": "https://localhost:8080/"
    },
    "executionInfo": {
     "elapsed": 2254,
     "status": "ok",
     "timestamp": 1699622273626,
     "user": {
      "displayName": "Ghodke Aditya Rao",
      "userId": "16174946243551813147"
     },
     "user_tz": -330
    },
    "id": "5imORlgEnMg2",
    "outputId": "eb0ca498-2f92-49c2-b11f-18d03bbf3a80"
   },
   "outputs": [
    {
     "name": "stdout",
     "output_type": "stream",
     "text": [
      "Train Score:  0.9294234592445328\n",
      "Test Score:  0.9001766784452296\n"
     ]
    }
   ],
   "source": [
    "from sklearn.ensemble import RandomForestClassifier\n",
    "from sklearn.metrics import accuracy_score\n",
    "from sklearn.model_selection import GridSearchCV\n",
    "\n",
    "rfc = RandomForestClassifier(criterion= 'log_loss', max_depth= 20, min_samples_leaf= 8, n_estimators= 40, oob_score= True)\n",
    "rfc.fit(X_train, y_train)\n",
    "pred = rfc.predict(X_test)\n",
    "\n",
    "print(\"Train Score: \", rfc.score(X_train, y_train))\n",
    "print(\"Test Score: \", rfc.score(X_test, y_test))"
   ]
  },
  {
   "cell_type": "markdown",
   "metadata": {},
   "source": [
    "MULTI LAYER PERCEPTRON "
   ]
  },
  {
   "cell_type": "code",
   "execution_count": 173,
   "metadata": {},
   "outputs": [
    {
     "name": "stdout",
     "output_type": "stream",
     "text": [
      "Train Score:  0.9382593328915396\n",
      "Test Score:  0.9280035335689046\n"
     ]
    }
   ],
   "source": [
    "from sklearn.neural_network import MLPClassifier \n",
    "\n",
    "dfc = result.copy()\n",
    "for column in dfc.columns: \n",
    "    dfc[column] = (dfc[column] - dfc[column].mean()) / dfc[column].std()   \n",
    "\n",
    "X1 = dfc.drop('sleep', axis=1)\n",
    "y1 = result['sleep']\n",
    "\n",
    "X_train1, X_test1, y_train1, y_test1 = train_test_split(X1, y1, test_size=0.2, shuffle=True)\n",
    "\n",
    "model = MLPClassifier(hidden_layer_sizes=(100,50))\n",
    "model.fit(X_train1, y_train1) \n",
    "\n",
    "print(\"Train Score: \", model.score(X_train1, y_train1))\n",
    "print(\"Test Score: \", model.score(X_test1, y_test1))"
   ]
  },
  {
   "cell_type": "markdown",
   "metadata": {},
   "source": [
    "LOGISTIC REGRESSION"
   ]
  },
  {
   "cell_type": "code",
   "execution_count": 98,
   "metadata": {},
   "outputs": [
    {
     "name": "stdout",
     "output_type": "stream",
     "text": [
      "Training Score:  0.899271040424122\n",
      "Testing Score:  0.9151943462897526\n"
     ]
    }
   ],
   "source": [
    "from sklearn.linear_model import LogisticRegression\n",
    "\n",
    "clf1 = LogisticRegression(multi_class='multinomial',solver='newton-cg').fit(X_train1, y_train1)\n",
    "print(\"Training Score: \", clf1.score(X_train1, y_train1))\n",
    "print(\"Testing Score: \", clf1.score(X_test1, y_test1))"
   ]
  },
  {
   "cell_type": "markdown",
   "metadata": {},
   "source": [
    "KNN CLASSIFICATION"
   ]
  },
  {
   "cell_type": "code",
   "execution_count": 96,
   "metadata": {
    "colab": {
     "base_uri": "https://localhost:8080/"
    },
    "executionInfo": {
     "elapsed": 1481,
     "status": "ok",
     "timestamp": 1699622267504,
     "user": {
      "displayName": "Ghodke Aditya Rao",
      "userId": "16174946243551813147"
     },
     "user_tz": -330
    },
    "id": "jaZYu1_HnFaT",
    "outputId": "12c38bcb-2efe-4fc4-df21-0de2daf793eb"
   },
   "outputs": [
    {
     "name": "stdout",
     "output_type": "stream",
     "text": [
      "Training Score 0.8730947647448641\n",
      "Testing Score:  0.8515901060070671\n"
     ]
    }
   ],
   "source": [
    "from sklearn.neighbors import KNeighborsClassifier\n",
    "knn = KNeighborsClassifier(n_neighbors = 7).fit(X_train, y_train)\n",
    "accuracy = knn.score(X_test, y_test)\n",
    "accuracytt = knn.score(X_train, y_train)\n",
    "print(\"Training Score\", accuracytt)\n",
    "print(\"Testing Score: \", accuracy)"
   ]
  },
  {
   "cell_type": "markdown",
   "metadata": {},
   "source": [
    "# AASM DATASET ML"
   ]
  },
  {
   "cell_type": "code",
   "execution_count": 123,
   "metadata": {},
   "outputs": [
    {
     "data": {
      "text/html": [
       "<div>\n",
       "<style scoped>\n",
       "    .dataframe tbody tr th:only-of-type {\n",
       "        vertical-align: middle;\n",
       "    }\n",
       "\n",
       "    .dataframe tbody tr th {\n",
       "        vertical-align: top;\n",
       "    }\n",
       "\n",
       "    .dataframe thead th {\n",
       "        text-align: right;\n",
       "    }\n",
       "</style>\n",
       "<table border=\"1\" class=\"dataframe\">\n",
       "  <thead>\n",
       "    <tr style=\"text-align: right;\">\n",
       "      <th></th>\n",
       "      <th>d_mf</th>\n",
       "      <th>d_ar</th>\n",
       "      <th>d_sh</th>\n",
       "      <th>t_mf</th>\n",
       "      <th>t_ar</th>\n",
       "      <th>t_sh</th>\n",
       "      <th>a_mf</th>\n",
       "      <th>a_ar</th>\n",
       "      <th>a_sh</th>\n",
       "      <th>b_mf</th>\n",
       "      <th>b_ar</th>\n",
       "      <th>b_sh</th>\n",
       "      <th>g_mf</th>\n",
       "      <th>g_ar</th>\n",
       "      <th>g_sh</th>\n",
       "      <th>sleep</th>\n",
       "    </tr>\n",
       "  </thead>\n",
       "  <tbody>\n",
       "    <tr>\n",
       "      <th>0</th>\n",
       "      <td>175</td>\n",
       "      <td>0.509983</td>\n",
       "      <td>4.944873</td>\n",
       "      <td>331</td>\n",
       "      <td>0.201933</td>\n",
       "      <td>1.134957</td>\n",
       "      <td>388</td>\n",
       "      <td>0.136571</td>\n",
       "      <td>0.716680</td>\n",
       "      <td>2144</td>\n",
       "      <td>0.120674</td>\n",
       "      <td>0.697217</td>\n",
       "      <td>6194</td>\n",
       "      <td>0.041549</td>\n",
       "      <td>0.236288</td>\n",
       "      <td>0</td>\n",
       "    </tr>\n",
       "    <tr>\n",
       "      <th>1</th>\n",
       "      <td>167</td>\n",
       "      <td>0.394667</td>\n",
       "      <td>6.028004</td>\n",
       "      <td>430</td>\n",
       "      <td>0.045933</td>\n",
       "      <td>0.890145</td>\n",
       "      <td>580</td>\n",
       "      <td>0.011349</td>\n",
       "      <td>0.416113</td>\n",
       "      <td>3732</td>\n",
       "      <td>0.009616</td>\n",
       "      <td>0.376411</td>\n",
       "      <td>11074</td>\n",
       "      <td>0.020225</td>\n",
       "      <td>0.322506</td>\n",
       "      <td>0</td>\n",
       "    </tr>\n",
       "    <tr>\n",
       "      <th>2</th>\n",
       "      <td>143</td>\n",
       "      <td>0.425667</td>\n",
       "      <td>6.289870</td>\n",
       "      <td>338</td>\n",
       "      <td>0.100583</td>\n",
       "      <td>1.437072</td>\n",
       "      <td>594</td>\n",
       "      <td>0.016460</td>\n",
       "      <td>0.378734</td>\n",
       "      <td>3479</td>\n",
       "      <td>0.003308</td>\n",
       "      <td>0.242356</td>\n",
       "      <td>9176</td>\n",
       "      <td>0.023382</td>\n",
       "      <td>0.341687</td>\n",
       "      <td>0</td>\n",
       "    </tr>\n",
       "    <tr>\n",
       "      <th>3</th>\n",
       "      <td>187</td>\n",
       "      <td>0.426600</td>\n",
       "      <td>5.866791</td>\n",
       "      <td>372</td>\n",
       "      <td>0.077300</td>\n",
       "      <td>0.970765</td>\n",
       "      <td>506</td>\n",
       "      <td>0.023762</td>\n",
       "      <td>0.499579</td>\n",
       "      <td>3389</td>\n",
       "      <td>0.022391</td>\n",
       "      <td>0.462495</td>\n",
       "      <td>10053</td>\n",
       "      <td>0.018340</td>\n",
       "      <td>0.258128</td>\n",
       "      <td>0</td>\n",
       "    </tr>\n",
       "    <tr>\n",
       "      <th>4</th>\n",
       "      <td>127</td>\n",
       "      <td>0.523967</td>\n",
       "      <td>5.502443</td>\n",
       "      <td>307</td>\n",
       "      <td>0.151733</td>\n",
       "      <td>1.163093</td>\n",
       "      <td>399</td>\n",
       "      <td>0.062984</td>\n",
       "      <td>0.579873</td>\n",
       "      <td>2425</td>\n",
       "      <td>0.056681</td>\n",
       "      <td>0.560925</td>\n",
       "      <td>6996</td>\n",
       "      <td>0.017386</td>\n",
       "      <td>0.170865</td>\n",
       "      <td>0</td>\n",
       "    </tr>\n",
       "    <tr>\n",
       "      <th>...</th>\n",
       "      <td>...</td>\n",
       "      <td>...</td>\n",
       "      <td>...</td>\n",
       "      <td>...</td>\n",
       "      <td>...</td>\n",
       "      <td>...</td>\n",
       "      <td>...</td>\n",
       "      <td>...</td>\n",
       "      <td>...</td>\n",
       "      <td>...</td>\n",
       "      <td>...</td>\n",
       "      <td>...</td>\n",
       "      <td>...</td>\n",
       "      <td>...</td>\n",
       "      <td>...</td>\n",
       "      <td>...</td>\n",
       "    </tr>\n",
       "    <tr>\n",
       "      <th>11313</th>\n",
       "      <td>158</td>\n",
       "      <td>0.562317</td>\n",
       "      <td>4.666449</td>\n",
       "      <td>285</td>\n",
       "      <td>0.266517</td>\n",
       "      <td>1.299384</td>\n",
       "      <td>347</td>\n",
       "      <td>0.162190</td>\n",
       "      <td>0.791771</td>\n",
       "      <td>1912</td>\n",
       "      <td>0.140739</td>\n",
       "      <td>0.746818</td>\n",
       "      <td>5786</td>\n",
       "      <td>0.033905</td>\n",
       "      <td>0.174525</td>\n",
       "      <td>0</td>\n",
       "    </tr>\n",
       "    <tr>\n",
       "      <th>11314</th>\n",
       "      <td>176</td>\n",
       "      <td>0.550850</td>\n",
       "      <td>4.323772</td>\n",
       "      <td>247</td>\n",
       "      <td>0.305267</td>\n",
       "      <td>1.346295</td>\n",
       "      <td>315</td>\n",
       "      <td>0.220127</td>\n",
       "      <td>0.908721</td>\n",
       "      <td>1819</td>\n",
       "      <td>0.178946</td>\n",
       "      <td>0.805460</td>\n",
       "      <td>5396</td>\n",
       "      <td>0.047183</td>\n",
       "      <td>0.197265</td>\n",
       "      <td>0</td>\n",
       "    </tr>\n",
       "    <tr>\n",
       "      <th>11315</th>\n",
       "      <td>140</td>\n",
       "      <td>0.595067</td>\n",
       "      <td>4.506748</td>\n",
       "      <td>245</td>\n",
       "      <td>0.282217</td>\n",
       "      <td>1.366871</td>\n",
       "      <td>337</td>\n",
       "      <td>0.193222</td>\n",
       "      <td>0.871118</td>\n",
       "      <td>1760</td>\n",
       "      <td>0.155446</td>\n",
       "      <td>0.751962</td>\n",
       "      <td>5244</td>\n",
       "      <td>0.034229</td>\n",
       "      <td>0.170302</td>\n",
       "      <td>0</td>\n",
       "    </tr>\n",
       "    <tr>\n",
       "      <th>11316</th>\n",
       "      <td>178</td>\n",
       "      <td>0.571100</td>\n",
       "      <td>3.791335</td>\n",
       "      <td>280</td>\n",
       "      <td>0.324633</td>\n",
       "      <td>1.074225</td>\n",
       "      <td>325</td>\n",
       "      <td>0.274968</td>\n",
       "      <td>0.838722</td>\n",
       "      <td>1551</td>\n",
       "      <td>0.261207</td>\n",
       "      <td>0.950915</td>\n",
       "      <td>4342</td>\n",
       "      <td>0.127448</td>\n",
       "      <td>0.305018</td>\n",
       "      <td>0</td>\n",
       "    </tr>\n",
       "    <tr>\n",
       "      <th>11317</th>\n",
       "      <td>128</td>\n",
       "      <td>0.572200</td>\n",
       "      <td>5.294440</td>\n",
       "      <td>315</td>\n",
       "      <td>0.179400</td>\n",
       "      <td>1.193335</td>\n",
       "      <td>378</td>\n",
       "      <td>0.095635</td>\n",
       "      <td>0.708839</td>\n",
       "      <td>2248</td>\n",
       "      <td>0.071254</td>\n",
       "      <td>0.586003</td>\n",
       "      <td>6713</td>\n",
       "      <td>0.013301</td>\n",
       "      <td>0.124958</td>\n",
       "      <td>9</td>\n",
       "    </tr>\n",
       "  </tbody>\n",
       "</table>\n",
       "<p>11318 rows × 16 columns</p>\n",
       "</div>"
      ],
      "text/plain": [
       "       d_mf      d_ar      d_sh  t_mf      t_ar      t_sh  a_mf      a_ar  \\\n",
       "0       175  0.509983  4.944873   331  0.201933  1.134957   388  0.136571   \n",
       "1       167  0.394667  6.028004   430  0.045933  0.890145   580  0.011349   \n",
       "2       143  0.425667  6.289870   338  0.100583  1.437072   594  0.016460   \n",
       "3       187  0.426600  5.866791   372  0.077300  0.970765   506  0.023762   \n",
       "4       127  0.523967  5.502443   307  0.151733  1.163093   399  0.062984   \n",
       "...     ...       ...       ...   ...       ...       ...   ...       ...   \n",
       "11313   158  0.562317  4.666449   285  0.266517  1.299384   347  0.162190   \n",
       "11314   176  0.550850  4.323772   247  0.305267  1.346295   315  0.220127   \n",
       "11315   140  0.595067  4.506748   245  0.282217  1.366871   337  0.193222   \n",
       "11316   178  0.571100  3.791335   280  0.324633  1.074225   325  0.274968   \n",
       "11317   128  0.572200  5.294440   315  0.179400  1.193335   378  0.095635   \n",
       "\n",
       "           a_sh  b_mf      b_ar      b_sh   g_mf      g_ar      g_sh  sleep  \n",
       "0      0.716680  2144  0.120674  0.697217   6194  0.041549  0.236288      0  \n",
       "1      0.416113  3732  0.009616  0.376411  11074  0.020225  0.322506      0  \n",
       "2      0.378734  3479  0.003308  0.242356   9176  0.023382  0.341687      0  \n",
       "3      0.499579  3389  0.022391  0.462495  10053  0.018340  0.258128      0  \n",
       "4      0.579873  2425  0.056681  0.560925   6996  0.017386  0.170865      0  \n",
       "...         ...   ...       ...       ...    ...       ...       ...    ...  \n",
       "11313  0.791771  1912  0.140739  0.746818   5786  0.033905  0.174525      0  \n",
       "11314  0.908721  1819  0.178946  0.805460   5396  0.047183  0.197265      0  \n",
       "11315  0.871118  1760  0.155446  0.751962   5244  0.034229  0.170302      0  \n",
       "11316  0.838722  1551  0.261207  0.950915   4342  0.127448  0.305018      0  \n",
       "11317  0.708839  2248  0.071254  0.586003   6713  0.013301  0.124958      9  \n",
       "\n",
       "[11318 rows x 16 columns]"
      ]
     },
     "execution_count": 123,
     "metadata": {},
     "output_type": "execute_result"
    }
   ],
   "source": [
    "df = pd.read_csv(\"D:\\\\data\\\\sc-final.csv\")\n",
    "df[\"sleep\"] = df['sleep'].replace([3], 4)\n",
    "df"
   ]
  },
  {
   "cell_type": "code",
   "execution_count": 124,
   "metadata": {},
   "outputs": [
    {
     "data": {
      "text/plain": [
       "array([0, 1, 2, 4, 6, 5, 9], dtype=int64)"
      ]
     },
     "execution_count": 124,
     "metadata": {},
     "output_type": "execute_result"
    }
   ],
   "source": [
    "df['sleep'].unique()"
   ]
  },
  {
   "cell_type": "code",
   "execution_count": 125,
   "metadata": {},
   "outputs": [],
   "source": [
    "X2 = df.drop('sleep', axis=1)\n",
    "y2 = df['sleep']"
   ]
  },
  {
   "cell_type": "code",
   "execution_count": 126,
   "metadata": {},
   "outputs": [],
   "source": [
    "from sklearn.metrics import confusion_matrix\n",
    "from sklearn.model_selection import train_test_split\n",
    "from sklearn.metrics import accuracy_score\n",
    "\n",
    "X_train2, X_test2, y_train2, y_test2 = train_test_split(X2, y2, test_size=0.2, shuffle=True)"
   ]
  },
  {
   "cell_type": "markdown",
   "metadata": {},
   "source": [
    "DECISION TREE CLASSIFIER"
   ]
  },
  {
   "cell_type": "code",
   "execution_count": 130,
   "metadata": {},
   "outputs": [
    {
     "name": "stdout",
     "output_type": "stream",
     "text": [
      "Training Score:  0.9265518003092555\n",
      "Accuracy: 0.8780918727915195\n"
     ]
    }
   ],
   "source": [
    "from sklearn.tree import DecisionTreeClassifier\n",
    "\n",
    "clf11 = DecisionTreeClassifier(min_samples_split=10, min_samples_leaf= 9, max_depth=14)\n",
    "clf11 = clf11.fit(X_train2,y_train2)\n",
    "print(\"Training Score: \", clf11.score(X_train2, y_train2))\n",
    "print(\"Accuracy:\",clf11.score(X_test2, y_test2))"
   ]
  },
  {
   "cell_type": "markdown",
   "metadata": {},
   "source": [
    "RANDOM FOREST CLASSIFIER"
   ]
  },
  {
   "cell_type": "code",
   "execution_count": 141,
   "metadata": {},
   "outputs": [
    {
     "name": "stdout",
     "output_type": "stream",
     "text": [
      "Train Score:  0.9359399160592003\n",
      "Test Score:  0.9032685512367491\n"
     ]
    }
   ],
   "source": [
    "from sklearn.ensemble import RandomForestClassifier\n",
    "from sklearn.metrics import accuracy_score\n",
    "from sklearn.model_selection import GridSearchCV\n",
    "\n",
    "rfc11 = RandomForestClassifier(criterion= 'log_loss', max_depth= 20, min_samples_leaf= 8, n_estimators= 40, oob_score= True)\n",
    "rfc11.fit(X_train2, y_train2)\n",
    "\n",
    "print(\"Train Score: \", rfc11.score(X_train2, y_train2))\n",
    "print(\"Test Score: \", rfc11.score(X_test2, y_test2))"
   ]
  },
  {
   "cell_type": "markdown",
   "metadata": {},
   "source": [
    "MULTI LAYER PERCEPTRON"
   ]
  },
  {
   "cell_type": "code",
   "execution_count": 146,
   "metadata": {},
   "outputs": [
    {
     "name": "stdout",
     "output_type": "stream",
     "text": [
      "Train Score:  0.9453280318091452\n",
      "Test Score:  0.9363957597173145\n"
     ]
    }
   ],
   "source": [
    "from sklearn.neural_network import MLPClassifier \n",
    "\n",
    "dfd = df.copy()\n",
    "for column in dfd.columns: \n",
    "    dfd[column] = (dfd[column] - dfd[column].mean()) / dfd[column].std()   \n",
    "\n",
    "Xnor = dfd.drop('sleep', axis=1)\n",
    "ynor = df['sleep']\n",
    "\n",
    "X_train_nor, X_test_nor, y_train_nor, y_test_nor = train_test_split(Xnor, ynor, test_size=0.2, shuffle=True)\n",
    "\n",
    "model11 = MLPClassifier(hidden_layer_sizes=(100,50))\n",
    "model11.fit(X_train_nor, y_train_nor) \n",
    "\n",
    "print(\"Train Score: \", model11.score(X_train_nor, y_train_nor))\n",
    "print(\"Test Score: \", model11.score(X_test_nor, y_test_nor))"
   ]
  },
  {
   "cell_type": "markdown",
   "metadata": {},
   "source": [
    "LOGISTIC REGRESSION"
   ]
  },
  {
   "cell_type": "code",
   "execution_count": 145,
   "metadata": {},
   "outputs": [
    {
     "name": "stdout",
     "output_type": "stream",
     "text": [
      "Training Score:  0.9106472277446432\n",
      "Testing Score:  0.9103356890459364\n"
     ]
    }
   ],
   "source": [
    "from sklearn.linear_model import LogisticRegression\n",
    "\n",
    "clf12 = LogisticRegression(multi_class='multinomial',solver='newton-cg').fit(X_train_nor, y_train_nor)\n",
    "print(\"Training Score: \", clf12.score(X_train_nor, y_train_nor))\n",
    "print(\"Testing Score: \", clf12.score(X_test_nor, y_test_nor))"
   ]
  },
  {
   "cell_type": "markdown",
   "metadata": {},
   "source": [
    "KNN CLASSIFICATION"
   ]
  },
  {
   "cell_type": "code",
   "execution_count": 133,
   "metadata": {},
   "outputs": [
    {
     "name": "stdout",
     "output_type": "stream",
     "text": [
      "Training Score 0.8804948089242324\n",
      "Testing Score:  0.8529151943462897\n"
     ]
    }
   ],
   "source": [
    "from sklearn.neighbors import KNeighborsClassifier\n",
    "knn1 = KNeighborsClassifier(n_neighbors = 7).fit(X_train2, y_train2)\n",
    "accuracy = knn1.score(X_test2, y_test2)\n",
    "accuracytt = knn1.score(X_train2, y_train2)\n",
    "print(\"Training Score\", accuracytt)\n",
    "print(\"Testing Score: \", accuracy)"
   ]
  }
 ],
 "metadata": {
  "colab": {
   "authorship_tag": "ABX9TyMNmjVVJPErbN0djgf4K5KR",
   "mount_file_id": "1zmJu19hskbQ5NiVfuUsQeNdDGibkyGTV",
   "provenance": []
  },
  "kernelspec": {
   "display_name": "Python 3",
   "language": "python",
   "name": "python3"
  },
  "language_info": {
   "codemirror_mode": {
    "name": "ipython",
    "version": 3
   },
   "file_extension": ".py",
   "mimetype": "text/x-python",
   "name": "python",
   "nbconvert_exporter": "python",
   "pygments_lexer": "ipython3",
   "version": "3.8.8"
  }
 },
 "nbformat": 4,
 "nbformat_minor": 1
}
